{
 "metadata": {
  "name": "",
  "signature": "sha256:51480acf367c8ce8c67d786384ba0e556e70fdaec78fa4a13d2f9e74bded8fab"
 },
 "nbformat": 3,
 "nbformat_minor": 0,
 "worksheets": []
}