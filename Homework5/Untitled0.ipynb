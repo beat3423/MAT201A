{
 "metadata": {
  "name": "",
  "signature": "sha256:73904176c947c7b3776c6110d04d83ec7856336ddeac31e67997cbc20b9aa938"
 },
 "nbformat": 3,
 "nbformat_minor": 0,
 "worksheets": [
  {
   "cells": [
    {
     "cell_type": "code",
     "collapsed": false,
     "input": [
      "%pylab inline\n",
      "rcParams['figure.figsize'] = (10, 4) #wide graphs by default\n",
      "from __future__ import print_function\n",
      "from __future__ import division"
     ],
     "language": "python",
     "metadata": {},
     "outputs": []
    },
    {
     "cell_type": "code",
     "collapsed": false,
     "input": [
      "from scipy.signal import convolve2d"
     ],
     "language": "python",
     "metadata": {},
     "outputs": []
    },
    {
     "cell_type": "code",
     "collapsed": false,
     "input": [
      "import scipy.ndimage as ndimage"
     ],
     "language": "python",
     "metadata": {},
     "outputs": []
    },
    {
     "cell_type": "code",
     "collapsed": false,
     "input": [
      "from PIL import Image\n",
      "from pylab import *\n",
      "from scipy import signal\n",
      "from scipy import misc\n",
      "\n",
      "import matplotlib.pyplot as plt\n",
      "\n",
      "img = array(Image.open(\"Photo.jpeg\"))\n",
      "imshow(img)"
     ],
     "language": "python",
     "metadata": {},
     "outputs": []
    },
    {
     "cell_type": "code",
     "collapsed": false,
     "input": [
      "src_image = where(img[:,:] > 255*0.6, 1, 0)\n",
      "eroded = ndimage.binary_erosion(src_image, structure)\n",
      "subplot(121)\n",
      "imshow2(src_image)\n",
      "subplot(122)\n",
      "imshow2(eroded)"
     ],
     "language": "python",
     "metadata": {},
     "outputs": []
    },
    {
     "cell_type": "code",
     "collapsed": false,
     "input": [],
     "language": "python",
     "metadata": {},
     "outputs": []
    }
   ],
   "metadata": {}
  }
 ]
}